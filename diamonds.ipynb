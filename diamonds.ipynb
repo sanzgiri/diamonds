{
 "cells": [
  {
   "cell_type": "markdown",
   "metadata": {
    "run_control": {
     "frozen": false,
     "read_only": false
    }
   },
   "source": [
    "### Read dataset into Pandas DataFrame"
   ]
  },
  {
   "cell_type": "code",
   "execution_count": 1,
   "metadata": {
    "ExecuteTime": {
     "end_time": "2017-12-20T22:51:01.568501Z",
     "start_time": "2017-12-20T22:50:57.082393Z"
    },
    "run_control": {
     "frozen": false,
     "read_only": false
    }
   },
   "outputs": [
    {
     "data": {
      "text/html": [
       "<style>.container { width:100% !important; }</style>"
      ],
      "text/plain": [
       "<IPython.core.display.HTML object>"
      ]
     },
     "metadata": {},
     "output_type": "display_data"
    }
   ],
   "source": [
    "import pandas as pd\n",
    "import numpy as np\n",
    "import matplotlib.pyplot as plt\n",
    "%matplotlib inline\n",
    "pd.options.display.max_columns = 999\n",
    "from IPython.core.display import display, HTML\n",
    "display(HTML(\"<style>.container { width:100% !important; }</style>\"))\n",
    "\n",
    "df = pd.read_csv(\"diamonds.csv\")"
   ]
  },
  {
   "cell_type": "markdown",
   "metadata": {
    "run_control": {
     "frozen": false,
     "read_only": false
    }
   },
   "source": [
    "### Examine Data\n",
    "- For first pass, keep only the 4Cs (Carat, Cut, Clarity, Color)\n",
    "- Include a fifth \"C\": Certification\n",
    "- Explore feature distribution"
   ]
  },
  {
   "cell_type": "code",
   "execution_count": 2,
   "metadata": {
    "ExecuteTime": {
     "end_time": "2017-12-20T22:51:02.295294Z",
     "start_time": "2017-12-20T22:51:02.241381Z"
    },
    "run_control": {
     "frozen": false,
     "read_only": false
    }
   },
   "outputs": [
    {
     "data": {
      "text/html": [
       "<div>\n",
       "<table border=\"1\" class=\"dataframe\">\n",
       "  <thead>\n",
       "    <tr style=\"text-align: right;\">\n",
       "      <th></th>\n",
       "      <th>carat</th>\n",
       "      <th>cut</th>\n",
       "      <th>color</th>\n",
       "      <th>clarity</th>\n",
       "      <th>table</th>\n",
       "      <th>depth</th>\n",
       "      <th>cert</th>\n",
       "      <th>measurements</th>\n",
       "      <th>price</th>\n",
       "      <th>wlink</th>\n",
       "    </tr>\n",
       "  </thead>\n",
       "  <tbody>\n",
       "    <tr>\n",
       "      <th>0</th>\n",
       "      <td>0.20</td>\n",
       "      <td>V.Good</td>\n",
       "      <td>D</td>\n",
       "      <td>SI2</td>\n",
       "      <td>63.0</td>\n",
       "      <td>60.4</td>\n",
       "      <td>GIA</td>\n",
       "      <td>3.82 x 3.79 x 2.30</td>\n",
       "      <td>$203</td>\n",
       "      <td>http://www.diamondse.info/union.asp?sku=AE1169384</td>\n",
       "    </tr>\n",
       "    <tr>\n",
       "      <th>1</th>\n",
       "      <td>0.26</td>\n",
       "      <td>V.Good</td>\n",
       "      <td>G</td>\n",
       "      <td>SI1</td>\n",
       "      <td>63.0</td>\n",
       "      <td>62.7</td>\n",
       "      <td>EGL USA</td>\n",
       "      <td>4.04 x 4.00 x 2.52</td>\n",
       "      <td>$224</td>\n",
       "      <td>http://www.diamondse.info/union.asp?sku=AE1260440</td>\n",
       "    </tr>\n",
       "    <tr>\n",
       "      <th>2</th>\n",
       "      <td>0.23</td>\n",
       "      <td>Good</td>\n",
       "      <td>F</td>\n",
       "      <td>SI1</td>\n",
       "      <td>62.0</td>\n",
       "      <td>61.6</td>\n",
       "      <td>GIA</td>\n",
       "      <td>3.93 x 3.88 x 2.41</td>\n",
       "      <td>$229</td>\n",
       "      <td>http://www.diamondse.info/union.asp?sku=AE1708436</td>\n",
       "    </tr>\n",
       "    <tr>\n",
       "      <th>3</th>\n",
       "      <td>0.25</td>\n",
       "      <td>Good</td>\n",
       "      <td>H</td>\n",
       "      <td>I1</td>\n",
       "      <td>65.0</td>\n",
       "      <td>54.1</td>\n",
       "      <td>GIA</td>\n",
       "      <td>4.34 x 4.26 x 2.33</td>\n",
       "      <td>$232</td>\n",
       "      <td>http://www.diamondse.info/union.asp?sku=AE1329666</td>\n",
       "    </tr>\n",
       "    <tr>\n",
       "      <th>4</th>\n",
       "      <td>0.22</td>\n",
       "      <td>V.Good</td>\n",
       "      <td>K</td>\n",
       "      <td>VVS2</td>\n",
       "      <td>62.0</td>\n",
       "      <td>59.0</td>\n",
       "      <td>GIA</td>\n",
       "      <td>3.96 x 3.84 x 2.30</td>\n",
       "      <td>$234</td>\n",
       "      <td>http://www.diamondse.info/union.asp?sku=AE1663502</td>\n",
       "    </tr>\n",
       "  </tbody>\n",
       "</table>\n",
       "</div>"
      ],
      "text/plain": [
       "   carat     cut color clarity  table  depth     cert        measurements  \\\n",
       "0   0.20  V.Good     D     SI2   63.0   60.4      GIA  3.82 x 3.79 x 2.30   \n",
       "1   0.26  V.Good     G     SI1   63.0   62.7  EGL USA  4.04 x 4.00 x 2.52   \n",
       "2   0.23    Good     F     SI1   62.0   61.6      GIA  3.93 x 3.88 x 2.41   \n",
       "3   0.25    Good     H      I1   65.0   54.1      GIA  4.34 x 4.26 x 2.33   \n",
       "4   0.22  V.Good     K    VVS2   62.0   59.0      GIA  3.96 x 3.84 x 2.30   \n",
       "\n",
       "  price                                              wlink  \n",
       "0  $203  http://www.diamondse.info/union.asp?sku=AE1169384  \n",
       "1  $224  http://www.diamondse.info/union.asp?sku=AE1260440  \n",
       "2  $229  http://www.diamondse.info/union.asp?sku=AE1708436  \n",
       "3  $232  http://www.diamondse.info/union.asp?sku=AE1329666  \n",
       "4  $234  http://www.diamondse.info/union.asp?sku=AE1663502  "
      ]
     },
     "execution_count": 2,
     "metadata": {},
     "output_type": "execute_result"
    }
   ],
   "source": [
    "df.head()"
   ]
  },
  {
   "cell_type": "code",
   "execution_count": 3,
   "metadata": {
    "ExecuteTime": {
     "end_time": "2017-12-20T22:51:03.105190Z",
     "start_time": "2017-12-20T22:51:02.929172Z"
    },
    "run_control": {
     "frozen": false,
     "read_only": false
    }
   },
   "outputs": [
    {
     "data": {
      "text/html": [
       "<div>\n",
       "<table border=\"1\" class=\"dataframe\">\n",
       "  <thead>\n",
       "    <tr style=\"text-align: right;\">\n",
       "      <th></th>\n",
       "      <th>carat</th>\n",
       "      <th>table</th>\n",
       "      <th>depth</th>\n",
       "    </tr>\n",
       "  </thead>\n",
       "  <tbody>\n",
       "    <tr>\n",
       "      <th>count</th>\n",
       "      <td>222960.000000</td>\n",
       "      <td>222960.000000</td>\n",
       "      <td>222960.000000</td>\n",
       "    </tr>\n",
       "    <tr>\n",
       "      <th>mean</th>\n",
       "      <td>0.708266</td>\n",
       "      <td>57.718687</td>\n",
       "      <td>61.657001</td>\n",
       "    </tr>\n",
       "    <tr>\n",
       "      <th>std</th>\n",
       "      <td>0.320616</td>\n",
       "      <td>1.967557</td>\n",
       "      <td>5.827030</td>\n",
       "    </tr>\n",
       "    <tr>\n",
       "      <th>min</th>\n",
       "      <td>0.200000</td>\n",
       "      <td>0.000000</td>\n",
       "      <td>0.000000</td>\n",
       "    </tr>\n",
       "    <tr>\n",
       "      <th>25%</th>\n",
       "      <td>0.460000</td>\n",
       "      <td>56.000000</td>\n",
       "      <td>61.400000</td>\n",
       "    </tr>\n",
       "    <tr>\n",
       "      <th>50%</th>\n",
       "      <td>0.700000</td>\n",
       "      <td>57.000000</td>\n",
       "      <td>62.200000</td>\n",
       "    </tr>\n",
       "    <tr>\n",
       "      <th>75%</th>\n",
       "      <td>1.000000</td>\n",
       "      <td>59.000000</td>\n",
       "      <td>62.800000</td>\n",
       "    </tr>\n",
       "    <tr>\n",
       "      <th>max</th>\n",
       "      <td>2.000000</td>\n",
       "      <td>72.000000</td>\n",
       "      <td>75.000000</td>\n",
       "    </tr>\n",
       "  </tbody>\n",
       "</table>\n",
       "</div>"
      ],
      "text/plain": [
       "               carat          table          depth\n",
       "count  222960.000000  222960.000000  222960.000000\n",
       "mean        0.708266      57.718687      61.657001\n",
       "std         0.320616       1.967557       5.827030\n",
       "min         0.200000       0.000000       0.000000\n",
       "25%         0.460000      56.000000      61.400000\n",
       "50%         0.700000      57.000000      62.200000\n",
       "75%         1.000000      59.000000      62.800000\n",
       "max         2.000000      72.000000      75.000000"
      ]
     },
     "execution_count": 3,
     "metadata": {},
     "output_type": "execute_result"
    }
   ],
   "source": [
    "df.describe()"
   ]
  },
  {
   "cell_type": "code",
   "execution_count": 4,
   "metadata": {
    "ExecuteTime": {
     "end_time": "2017-12-20T22:51:03.847285Z",
     "start_time": "2017-12-20T22:51:03.584232Z"
    },
    "run_control": {
     "frozen": false,
     "read_only": false
    }
   },
   "outputs": [
    {
     "name": "stdout",
     "output_type": "stream",
     "text": [
      "Ideal     163750\n",
      "V.Good     45318\n",
      "Good       13892\n",
      "Name: cut, dtype: int64\n",
      "G    38461\n",
      "F    35704\n",
      "E    35493\n",
      "D    33894\n",
      "H    31858\n",
      "I    22461\n",
      "J    15097\n",
      "K     6315\n",
      "L     3677\n",
      "Name: color, dtype: int64\n",
      "VS2     39354\n",
      "SI1     37469\n",
      "VS1     36788\n",
      "SI2     31824\n",
      "VVS2    29833\n",
      "VVS1    26953\n",
      "IF      17022\n",
      "I1       3480\n",
      "I2        191\n",
      "FL         46\n",
      "Name: clarity, dtype: int64\n",
      "GIA         217003\n",
      "EGL Intl      2141\n",
      "AGS           1310\n",
      "IGI            887\n",
      "HRD            879\n",
      "EGL USA        704\n",
      "AGSL            36\n",
      "Name: cert, dtype: int64\n"
     ]
    }
   ],
   "source": [
    "# Remove unused features: table, depth, measurements, wlink\n",
    "df = df.drop(['measurements', 'wlink'], axis=1)\n",
    "# Get counts for each value of a categorical feature in dataset\n",
    "print df['cut'].value_counts()\n",
    "print df['color'].value_counts()\n",
    "print df['clarity'].value_counts()\n",
    "print df['cert'].value_counts()"
   ]
  },
  {
   "cell_type": "markdown",
   "metadata": {
    "run_control": {
     "frozen": false,
     "read_only": false
    }
   },
   "source": [
    "### Pre-process the data\n",
    "- Price: Remove \",\" \"$\", convert to float, take log\n",
    "- Convert Categorical features Cut, Clarity, Color, Cert to one-hot encoded features.\n",
    "- Drop Cut, Clarity, Color, Cert after one-hot encoding"
   ]
  },
  {
   "cell_type": "code",
   "execution_count": 5,
   "metadata": {
    "ExecuteTime": {
     "end_time": "2017-12-20T22:51:05.145674Z",
     "start_time": "2017-12-20T22:51:05.122692Z"
    },
    "collapsed": true,
    "run_control": {
     "frozen": false,
     "read_only": false
    }
   },
   "outputs": [],
   "source": [
    "def xform_price(df):\n",
    "    df['price'] = df['price'].apply(lambda x:x.replace(',',''))\n",
    "    df['price'] = df['price'].apply(lambda x:x[1:len(x)])\n",
    "    df['price'] = df['price'].astype(float)\n",
    "    return df\n",
    "    \n",
    "def xform_4c(df):\n",
    "    for X in ['cut','clarity','color','cert']:\n",
    "        X_dummies = pd.get_dummies(df[X], prefix = X)\n",
    "        X_columns = X_dummies.columns.values[:-1]\n",
    "        df = df.join(X_dummies[X_columns])\n",
    "    return df"
   ]
  },
  {
   "cell_type": "code",
   "execution_count": 6,
   "metadata": {
    "ExecuteTime": {
     "end_time": "2017-12-20T22:51:06.323730Z",
     "start_time": "2017-12-20T22:51:06.313878Z"
    }
   },
   "outputs": [
    {
     "data": {
      "text/plain": [
       "(222960, 8)"
      ]
     },
     "execution_count": 6,
     "metadata": {},
     "output_type": "execute_result"
    }
   ],
   "source": [
    "df.shape"
   ]
  },
  {
   "cell_type": "code",
   "execution_count": 7,
   "metadata": {
    "ExecuteTime": {
     "end_time": "2017-12-20T22:51:08.432080Z",
     "start_time": "2017-12-20T22:51:07.791658Z"
    },
    "collapsed": true,
    "run_control": {
     "frozen": false,
     "read_only": false
    }
   },
   "outputs": [],
   "source": [
    "df = xform_price(df)\n",
    "df = xform_4c(df)"
   ]
  },
  {
   "cell_type": "code",
   "execution_count": 8,
   "metadata": {
    "ExecuteTime": {
     "end_time": "2017-12-20T22:51:09.238499Z",
     "start_time": "2017-12-20T22:51:09.164205Z"
    },
    "run_control": {
     "frozen": false,
     "read_only": false
    }
   },
   "outputs": [
    {
     "data": {
      "text/html": [
       "<div>\n",
       "<table border=\"1\" class=\"dataframe\">\n",
       "  <thead>\n",
       "    <tr style=\"text-align: right;\">\n",
       "      <th></th>\n",
       "      <th>carat</th>\n",
       "      <th>cut</th>\n",
       "      <th>color</th>\n",
       "      <th>clarity</th>\n",
       "      <th>table</th>\n",
       "      <th>depth</th>\n",
       "      <th>cert</th>\n",
       "      <th>price</th>\n",
       "      <th>cut_Good</th>\n",
       "      <th>cut_Ideal</th>\n",
       "      <th>clarity_FL</th>\n",
       "      <th>clarity_I1</th>\n",
       "      <th>clarity_I2</th>\n",
       "      <th>clarity_IF</th>\n",
       "      <th>clarity_SI1</th>\n",
       "      <th>clarity_SI2</th>\n",
       "      <th>clarity_VS1</th>\n",
       "      <th>clarity_VS2</th>\n",
       "      <th>clarity_VVS1</th>\n",
       "      <th>color_D</th>\n",
       "      <th>color_E</th>\n",
       "      <th>color_F</th>\n",
       "      <th>color_G</th>\n",
       "      <th>color_H</th>\n",
       "      <th>color_I</th>\n",
       "      <th>color_J</th>\n",
       "      <th>color_K</th>\n",
       "      <th>cert_AGS</th>\n",
       "      <th>cert_AGSL</th>\n",
       "      <th>cert_EGL Intl</th>\n",
       "      <th>cert_EGL USA</th>\n",
       "      <th>cert_GIA</th>\n",
       "      <th>cert_HRD</th>\n",
       "    </tr>\n",
       "  </thead>\n",
       "  <tbody>\n",
       "    <tr>\n",
       "      <th>0</th>\n",
       "      <td>0.20</td>\n",
       "      <td>V.Good</td>\n",
       "      <td>D</td>\n",
       "      <td>SI2</td>\n",
       "      <td>63.0</td>\n",
       "      <td>60.4</td>\n",
       "      <td>GIA</td>\n",
       "      <td>203.0</td>\n",
       "      <td>0</td>\n",
       "      <td>0</td>\n",
       "      <td>0</td>\n",
       "      <td>0</td>\n",
       "      <td>0</td>\n",
       "      <td>0</td>\n",
       "      <td>0</td>\n",
       "      <td>1</td>\n",
       "      <td>0</td>\n",
       "      <td>0</td>\n",
       "      <td>0</td>\n",
       "      <td>1</td>\n",
       "      <td>0</td>\n",
       "      <td>0</td>\n",
       "      <td>0</td>\n",
       "      <td>0</td>\n",
       "      <td>0</td>\n",
       "      <td>0</td>\n",
       "      <td>0</td>\n",
       "      <td>0</td>\n",
       "      <td>0</td>\n",
       "      <td>0</td>\n",
       "      <td>0</td>\n",
       "      <td>1</td>\n",
       "      <td>0</td>\n",
       "    </tr>\n",
       "    <tr>\n",
       "      <th>1</th>\n",
       "      <td>0.26</td>\n",
       "      <td>V.Good</td>\n",
       "      <td>G</td>\n",
       "      <td>SI1</td>\n",
       "      <td>63.0</td>\n",
       "      <td>62.7</td>\n",
       "      <td>EGL USA</td>\n",
       "      <td>224.0</td>\n",
       "      <td>0</td>\n",
       "      <td>0</td>\n",
       "      <td>0</td>\n",
       "      <td>0</td>\n",
       "      <td>0</td>\n",
       "      <td>0</td>\n",
       "      <td>1</td>\n",
       "      <td>0</td>\n",
       "      <td>0</td>\n",
       "      <td>0</td>\n",
       "      <td>0</td>\n",
       "      <td>0</td>\n",
       "      <td>0</td>\n",
       "      <td>0</td>\n",
       "      <td>1</td>\n",
       "      <td>0</td>\n",
       "      <td>0</td>\n",
       "      <td>0</td>\n",
       "      <td>0</td>\n",
       "      <td>0</td>\n",
       "      <td>0</td>\n",
       "      <td>0</td>\n",
       "      <td>1</td>\n",
       "      <td>0</td>\n",
       "      <td>0</td>\n",
       "    </tr>\n",
       "    <tr>\n",
       "      <th>2</th>\n",
       "      <td>0.23</td>\n",
       "      <td>Good</td>\n",
       "      <td>F</td>\n",
       "      <td>SI1</td>\n",
       "      <td>62.0</td>\n",
       "      <td>61.6</td>\n",
       "      <td>GIA</td>\n",
       "      <td>229.0</td>\n",
       "      <td>1</td>\n",
       "      <td>0</td>\n",
       "      <td>0</td>\n",
       "      <td>0</td>\n",
       "      <td>0</td>\n",
       "      <td>0</td>\n",
       "      <td>1</td>\n",
       "      <td>0</td>\n",
       "      <td>0</td>\n",
       "      <td>0</td>\n",
       "      <td>0</td>\n",
       "      <td>0</td>\n",
       "      <td>0</td>\n",
       "      <td>1</td>\n",
       "      <td>0</td>\n",
       "      <td>0</td>\n",
       "      <td>0</td>\n",
       "      <td>0</td>\n",
       "      <td>0</td>\n",
       "      <td>0</td>\n",
       "      <td>0</td>\n",
       "      <td>0</td>\n",
       "      <td>0</td>\n",
       "      <td>1</td>\n",
       "      <td>0</td>\n",
       "    </tr>\n",
       "    <tr>\n",
       "      <th>3</th>\n",
       "      <td>0.25</td>\n",
       "      <td>Good</td>\n",
       "      <td>H</td>\n",
       "      <td>I1</td>\n",
       "      <td>65.0</td>\n",
       "      <td>54.1</td>\n",
       "      <td>GIA</td>\n",
       "      <td>232.0</td>\n",
       "      <td>1</td>\n",
       "      <td>0</td>\n",
       "      <td>0</td>\n",
       "      <td>1</td>\n",
       "      <td>0</td>\n",
       "      <td>0</td>\n",
       "      <td>0</td>\n",
       "      <td>0</td>\n",
       "      <td>0</td>\n",
       "      <td>0</td>\n",
       "      <td>0</td>\n",
       "      <td>0</td>\n",
       "      <td>0</td>\n",
       "      <td>0</td>\n",
       "      <td>0</td>\n",
       "      <td>1</td>\n",
       "      <td>0</td>\n",
       "      <td>0</td>\n",
       "      <td>0</td>\n",
       "      <td>0</td>\n",
       "      <td>0</td>\n",
       "      <td>0</td>\n",
       "      <td>0</td>\n",
       "      <td>1</td>\n",
       "      <td>0</td>\n",
       "    </tr>\n",
       "    <tr>\n",
       "      <th>4</th>\n",
       "      <td>0.22</td>\n",
       "      <td>V.Good</td>\n",
       "      <td>K</td>\n",
       "      <td>VVS2</td>\n",
       "      <td>62.0</td>\n",
       "      <td>59.0</td>\n",
       "      <td>GIA</td>\n",
       "      <td>234.0</td>\n",
       "      <td>0</td>\n",
       "      <td>0</td>\n",
       "      <td>0</td>\n",
       "      <td>0</td>\n",
       "      <td>0</td>\n",
       "      <td>0</td>\n",
       "      <td>0</td>\n",
       "      <td>0</td>\n",
       "      <td>0</td>\n",
       "      <td>0</td>\n",
       "      <td>0</td>\n",
       "      <td>0</td>\n",
       "      <td>0</td>\n",
       "      <td>0</td>\n",
       "      <td>0</td>\n",
       "      <td>0</td>\n",
       "      <td>0</td>\n",
       "      <td>0</td>\n",
       "      <td>1</td>\n",
       "      <td>0</td>\n",
       "      <td>0</td>\n",
       "      <td>0</td>\n",
       "      <td>0</td>\n",
       "      <td>1</td>\n",
       "      <td>0</td>\n",
       "    </tr>\n",
       "  </tbody>\n",
       "</table>\n",
       "</div>"
      ],
      "text/plain": [
       "   carat     cut color clarity  table  depth     cert  price  cut_Good  \\\n",
       "0   0.20  V.Good     D     SI2   63.0   60.4      GIA  203.0         0   \n",
       "1   0.26  V.Good     G     SI1   63.0   62.7  EGL USA  224.0         0   \n",
       "2   0.23    Good     F     SI1   62.0   61.6      GIA  229.0         1   \n",
       "3   0.25    Good     H      I1   65.0   54.1      GIA  232.0         1   \n",
       "4   0.22  V.Good     K    VVS2   62.0   59.0      GIA  234.0         0   \n",
       "\n",
       "   cut_Ideal  clarity_FL  clarity_I1  clarity_I2  clarity_IF  clarity_SI1  \\\n",
       "0          0           0           0           0           0            0   \n",
       "1          0           0           0           0           0            1   \n",
       "2          0           0           0           0           0            1   \n",
       "3          0           0           1           0           0            0   \n",
       "4          0           0           0           0           0            0   \n",
       "\n",
       "   clarity_SI2  clarity_VS1  clarity_VS2  clarity_VVS1  color_D  color_E  \\\n",
       "0            1            0            0             0        1        0   \n",
       "1            0            0            0             0        0        0   \n",
       "2            0            0            0             0        0        0   \n",
       "3            0            0            0             0        0        0   \n",
       "4            0            0            0             0        0        0   \n",
       "\n",
       "   color_F  color_G  color_H  color_I  color_J  color_K  cert_AGS  cert_AGSL  \\\n",
       "0        0        0        0        0        0        0         0          0   \n",
       "1        0        1        0        0        0        0         0          0   \n",
       "2        1        0        0        0        0        0         0          0   \n",
       "3        0        0        1        0        0        0         0          0   \n",
       "4        0        0        0        0        0        1         0          0   \n",
       "\n",
       "   cert_EGL Intl  cert_EGL USA  cert_GIA  cert_HRD  \n",
       "0              0             0         1         0  \n",
       "1              0             1         0         0  \n",
       "2              0             0         1         0  \n",
       "3              0             0         1         0  \n",
       "4              0             0         1         0  "
      ]
     },
     "execution_count": 8,
     "metadata": {},
     "output_type": "execute_result"
    }
   ],
   "source": [
    "df.head()"
   ]
  },
  {
   "cell_type": "code",
   "execution_count": 9,
   "metadata": {
    "ExecuteTime": {
     "end_time": "2017-12-20T22:51:09.915922Z",
     "start_time": "2017-12-20T22:51:09.903985Z"
    }
   },
   "outputs": [
    {
     "data": {
      "text/plain": [
       "(222960, 33)"
      ]
     },
     "execution_count": 9,
     "metadata": {},
     "output_type": "execute_result"
    }
   ],
   "source": [
    "df.shape"
   ]
  },
  {
   "cell_type": "code",
   "execution_count": 10,
   "metadata": {
    "ExecuteTime": {
     "end_time": "2017-12-20T22:51:11.937564Z",
     "start_time": "2017-12-20T22:51:10.642887Z"
    },
    "run_control": {
     "frozen": false,
     "read_only": false
    }
   },
   "outputs": [
    {
     "data": {
      "text/html": [
       "<div>\n",
       "<table border=\"1\" class=\"dataframe\">\n",
       "  <thead>\n",
       "    <tr style=\"text-align: right;\">\n",
       "      <th></th>\n",
       "      <th>carat</th>\n",
       "      <th>table</th>\n",
       "      <th>depth</th>\n",
       "      <th>price</th>\n",
       "      <th>cut_Good</th>\n",
       "      <th>cut_Ideal</th>\n",
       "      <th>clarity_FL</th>\n",
       "      <th>clarity_I1</th>\n",
       "      <th>clarity_I2</th>\n",
       "      <th>clarity_IF</th>\n",
       "      <th>clarity_SI1</th>\n",
       "      <th>clarity_SI2</th>\n",
       "      <th>clarity_VS1</th>\n",
       "      <th>clarity_VS2</th>\n",
       "      <th>clarity_VVS1</th>\n",
       "      <th>color_D</th>\n",
       "      <th>color_E</th>\n",
       "      <th>color_F</th>\n",
       "      <th>color_G</th>\n",
       "      <th>color_H</th>\n",
       "      <th>color_I</th>\n",
       "      <th>color_J</th>\n",
       "      <th>color_K</th>\n",
       "      <th>cert_AGS</th>\n",
       "      <th>cert_AGSL</th>\n",
       "      <th>cert_EGL Intl</th>\n",
       "      <th>cert_EGL USA</th>\n",
       "      <th>cert_GIA</th>\n",
       "      <th>cert_HRD</th>\n",
       "    </tr>\n",
       "  </thead>\n",
       "  <tbody>\n",
       "    <tr>\n",
       "      <th>count</th>\n",
       "      <td>222960.000000</td>\n",
       "      <td>222960.000000</td>\n",
       "      <td>222960.000000</td>\n",
       "      <td>222960.000000</td>\n",
       "      <td>222960.000000</td>\n",
       "      <td>222960.000000</td>\n",
       "      <td>222960.000000</td>\n",
       "      <td>222960.000000</td>\n",
       "      <td>222960.000000</td>\n",
       "      <td>222960.000000</td>\n",
       "      <td>222960.000000</td>\n",
       "      <td>222960.000000</td>\n",
       "      <td>222960.000000</td>\n",
       "      <td>222960.000000</td>\n",
       "      <td>222960.000000</td>\n",
       "      <td>222960.000000</td>\n",
       "      <td>222960.000000</td>\n",
       "      <td>222960.000000</td>\n",
       "      <td>222960.000000</td>\n",
       "      <td>222960.000000</td>\n",
       "      <td>222960.000000</td>\n",
       "      <td>222960.000000</td>\n",
       "      <td>222960.000000</td>\n",
       "      <td>222960.000000</td>\n",
       "      <td>222960.000000</td>\n",
       "      <td>222960.000000</td>\n",
       "      <td>222960.000000</td>\n",
       "      <td>222960.000000</td>\n",
       "      <td>222960.000000</td>\n",
       "    </tr>\n",
       "    <tr>\n",
       "      <th>mean</th>\n",
       "      <td>0.708266</td>\n",
       "      <td>57.718687</td>\n",
       "      <td>61.657001</td>\n",
       "      <td>3136.518142</td>\n",
       "      <td>0.062307</td>\n",
       "      <td>0.734437</td>\n",
       "      <td>0.000206</td>\n",
       "      <td>0.015608</td>\n",
       "      <td>0.000857</td>\n",
       "      <td>0.076346</td>\n",
       "      <td>0.168053</td>\n",
       "      <td>0.142734</td>\n",
       "      <td>0.164998</td>\n",
       "      <td>0.176507</td>\n",
       "      <td>0.120887</td>\n",
       "      <td>0.152018</td>\n",
       "      <td>0.159190</td>\n",
       "      <td>0.160136</td>\n",
       "      <td>0.172502</td>\n",
       "      <td>0.142887</td>\n",
       "      <td>0.100740</td>\n",
       "      <td>0.067712</td>\n",
       "      <td>0.028323</td>\n",
       "      <td>0.005875</td>\n",
       "      <td>0.000161</td>\n",
       "      <td>0.009603</td>\n",
       "      <td>0.003158</td>\n",
       "      <td>0.973282</td>\n",
       "      <td>0.003942</td>\n",
       "    </tr>\n",
       "    <tr>\n",
       "      <th>std</th>\n",
       "      <td>0.320616</td>\n",
       "      <td>1.967557</td>\n",
       "      <td>5.827030</td>\n",
       "      <td>2386.972700</td>\n",
       "      <td>0.241713</td>\n",
       "      <td>0.441634</td>\n",
       "      <td>0.014362</td>\n",
       "      <td>0.123954</td>\n",
       "      <td>0.029256</td>\n",
       "      <td>0.265551</td>\n",
       "      <td>0.373914</td>\n",
       "      <td>0.349802</td>\n",
       "      <td>0.371180</td>\n",
       "      <td>0.381252</td>\n",
       "      <td>0.325997</td>\n",
       "      <td>0.359039</td>\n",
       "      <td>0.365854</td>\n",
       "      <td>0.366733</td>\n",
       "      <td>0.377817</td>\n",
       "      <td>0.349958</td>\n",
       "      <td>0.300985</td>\n",
       "      <td>0.251251</td>\n",
       "      <td>0.165896</td>\n",
       "      <td>0.076426</td>\n",
       "      <td>0.012706</td>\n",
       "      <td>0.097522</td>\n",
       "      <td>0.056103</td>\n",
       "      <td>0.161258</td>\n",
       "      <td>0.062665</td>\n",
       "    </tr>\n",
       "    <tr>\n",
       "      <th>min</th>\n",
       "      <td>0.200000</td>\n",
       "      <td>0.000000</td>\n",
       "      <td>0.000000</td>\n",
       "      <td>203.000000</td>\n",
       "      <td>0.000000</td>\n",
       "      <td>0.000000</td>\n",
       "      <td>0.000000</td>\n",
       "      <td>0.000000</td>\n",
       "      <td>0.000000</td>\n",
       "      <td>0.000000</td>\n",
       "      <td>0.000000</td>\n",
       "      <td>0.000000</td>\n",
       "      <td>0.000000</td>\n",
       "      <td>0.000000</td>\n",
       "      <td>0.000000</td>\n",
       "      <td>0.000000</td>\n",
       "      <td>0.000000</td>\n",
       "      <td>0.000000</td>\n",
       "      <td>0.000000</td>\n",
       "      <td>0.000000</td>\n",
       "      <td>0.000000</td>\n",
       "      <td>0.000000</td>\n",
       "      <td>0.000000</td>\n",
       "      <td>0.000000</td>\n",
       "      <td>0.000000</td>\n",
       "      <td>0.000000</td>\n",
       "      <td>0.000000</td>\n",
       "      <td>0.000000</td>\n",
       "      <td>0.000000</td>\n",
       "    </tr>\n",
       "    <tr>\n",
       "      <th>25%</th>\n",
       "      <td>0.460000</td>\n",
       "      <td>56.000000</td>\n",
       "      <td>61.400000</td>\n",
       "      <td>1240.000000</td>\n",
       "      <td>0.000000</td>\n",
       "      <td>0.000000</td>\n",
       "      <td>0.000000</td>\n",
       "      <td>0.000000</td>\n",
       "      <td>0.000000</td>\n",
       "      <td>0.000000</td>\n",
       "      <td>0.000000</td>\n",
       "      <td>0.000000</td>\n",
       "      <td>0.000000</td>\n",
       "      <td>0.000000</td>\n",
       "      <td>0.000000</td>\n",
       "      <td>0.000000</td>\n",
       "      <td>0.000000</td>\n",
       "      <td>0.000000</td>\n",
       "      <td>0.000000</td>\n",
       "      <td>0.000000</td>\n",
       "      <td>0.000000</td>\n",
       "      <td>0.000000</td>\n",
       "      <td>0.000000</td>\n",
       "      <td>0.000000</td>\n",
       "      <td>0.000000</td>\n",
       "      <td>0.000000</td>\n",
       "      <td>0.000000</td>\n",
       "      <td>1.000000</td>\n",
       "      <td>0.000000</td>\n",
       "    </tr>\n",
       "    <tr>\n",
       "      <th>50%</th>\n",
       "      <td>0.700000</td>\n",
       "      <td>57.000000</td>\n",
       "      <td>62.200000</td>\n",
       "      <td>2319.000000</td>\n",
       "      <td>0.000000</td>\n",
       "      <td>1.000000</td>\n",
       "      <td>0.000000</td>\n",
       "      <td>0.000000</td>\n",
       "      <td>0.000000</td>\n",
       "      <td>0.000000</td>\n",
       "      <td>0.000000</td>\n",
       "      <td>0.000000</td>\n",
       "      <td>0.000000</td>\n",
       "      <td>0.000000</td>\n",
       "      <td>0.000000</td>\n",
       "      <td>0.000000</td>\n",
       "      <td>0.000000</td>\n",
       "      <td>0.000000</td>\n",
       "      <td>0.000000</td>\n",
       "      <td>0.000000</td>\n",
       "      <td>0.000000</td>\n",
       "      <td>0.000000</td>\n",
       "      <td>0.000000</td>\n",
       "      <td>0.000000</td>\n",
       "      <td>0.000000</td>\n",
       "      <td>0.000000</td>\n",
       "      <td>0.000000</td>\n",
       "      <td>1.000000</td>\n",
       "      <td>0.000000</td>\n",
       "    </tr>\n",
       "    <tr>\n",
       "      <th>75%</th>\n",
       "      <td>1.000000</td>\n",
       "      <td>59.000000</td>\n",
       "      <td>62.800000</td>\n",
       "      <td>4540.000000</td>\n",
       "      <td>0.000000</td>\n",
       "      <td>1.000000</td>\n",
       "      <td>0.000000</td>\n",
       "      <td>0.000000</td>\n",
       "      <td>0.000000</td>\n",
       "      <td>0.000000</td>\n",
       "      <td>0.000000</td>\n",
       "      <td>0.000000</td>\n",
       "      <td>0.000000</td>\n",
       "      <td>0.000000</td>\n",
       "      <td>0.000000</td>\n",
       "      <td>0.000000</td>\n",
       "      <td>0.000000</td>\n",
       "      <td>0.000000</td>\n",
       "      <td>0.000000</td>\n",
       "      <td>0.000000</td>\n",
       "      <td>0.000000</td>\n",
       "      <td>0.000000</td>\n",
       "      <td>0.000000</td>\n",
       "      <td>0.000000</td>\n",
       "      <td>0.000000</td>\n",
       "      <td>0.000000</td>\n",
       "      <td>0.000000</td>\n",
       "      <td>1.000000</td>\n",
       "      <td>0.000000</td>\n",
       "    </tr>\n",
       "    <tr>\n",
       "      <th>max</th>\n",
       "      <td>2.000000</td>\n",
       "      <td>72.000000</td>\n",
       "      <td>75.000000</td>\n",
       "      <td>10000.000000</td>\n",
       "      <td>1.000000</td>\n",
       "      <td>1.000000</td>\n",
       "      <td>1.000000</td>\n",
       "      <td>1.000000</td>\n",
       "      <td>1.000000</td>\n",
       "      <td>1.000000</td>\n",
       "      <td>1.000000</td>\n",
       "      <td>1.000000</td>\n",
       "      <td>1.000000</td>\n",
       "      <td>1.000000</td>\n",
       "      <td>1.000000</td>\n",
       "      <td>1.000000</td>\n",
       "      <td>1.000000</td>\n",
       "      <td>1.000000</td>\n",
       "      <td>1.000000</td>\n",
       "      <td>1.000000</td>\n",
       "      <td>1.000000</td>\n",
       "      <td>1.000000</td>\n",
       "      <td>1.000000</td>\n",
       "      <td>1.000000</td>\n",
       "      <td>1.000000</td>\n",
       "      <td>1.000000</td>\n",
       "      <td>1.000000</td>\n",
       "      <td>1.000000</td>\n",
       "      <td>1.000000</td>\n",
       "    </tr>\n",
       "  </tbody>\n",
       "</table>\n",
       "</div>"
      ],
      "text/plain": [
       "               carat          table          depth          price  \\\n",
       "count  222960.000000  222960.000000  222960.000000  222960.000000   \n",
       "mean        0.708266      57.718687      61.657001    3136.518142   \n",
       "std         0.320616       1.967557       5.827030    2386.972700   \n",
       "min         0.200000       0.000000       0.000000     203.000000   \n",
       "25%         0.460000      56.000000      61.400000    1240.000000   \n",
       "50%         0.700000      57.000000      62.200000    2319.000000   \n",
       "75%         1.000000      59.000000      62.800000    4540.000000   \n",
       "max         2.000000      72.000000      75.000000   10000.000000   \n",
       "\n",
       "            cut_Good      cut_Ideal     clarity_FL     clarity_I1  \\\n",
       "count  222960.000000  222960.000000  222960.000000  222960.000000   \n",
       "mean        0.062307       0.734437       0.000206       0.015608   \n",
       "std         0.241713       0.441634       0.014362       0.123954   \n",
       "min         0.000000       0.000000       0.000000       0.000000   \n",
       "25%         0.000000       0.000000       0.000000       0.000000   \n",
       "50%         0.000000       1.000000       0.000000       0.000000   \n",
       "75%         0.000000       1.000000       0.000000       0.000000   \n",
       "max         1.000000       1.000000       1.000000       1.000000   \n",
       "\n",
       "          clarity_I2     clarity_IF    clarity_SI1    clarity_SI2  \\\n",
       "count  222960.000000  222960.000000  222960.000000  222960.000000   \n",
       "mean        0.000857       0.076346       0.168053       0.142734   \n",
       "std         0.029256       0.265551       0.373914       0.349802   \n",
       "min         0.000000       0.000000       0.000000       0.000000   \n",
       "25%         0.000000       0.000000       0.000000       0.000000   \n",
       "50%         0.000000       0.000000       0.000000       0.000000   \n",
       "75%         0.000000       0.000000       0.000000       0.000000   \n",
       "max         1.000000       1.000000       1.000000       1.000000   \n",
       "\n",
       "         clarity_VS1    clarity_VS2   clarity_VVS1        color_D  \\\n",
       "count  222960.000000  222960.000000  222960.000000  222960.000000   \n",
       "mean        0.164998       0.176507       0.120887       0.152018   \n",
       "std         0.371180       0.381252       0.325997       0.359039   \n",
       "min         0.000000       0.000000       0.000000       0.000000   \n",
       "25%         0.000000       0.000000       0.000000       0.000000   \n",
       "50%         0.000000       0.000000       0.000000       0.000000   \n",
       "75%         0.000000       0.000000       0.000000       0.000000   \n",
       "max         1.000000       1.000000       1.000000       1.000000   \n",
       "\n",
       "             color_E        color_F        color_G        color_H  \\\n",
       "count  222960.000000  222960.000000  222960.000000  222960.000000   \n",
       "mean        0.159190       0.160136       0.172502       0.142887   \n",
       "std         0.365854       0.366733       0.377817       0.349958   \n",
       "min         0.000000       0.000000       0.000000       0.000000   \n",
       "25%         0.000000       0.000000       0.000000       0.000000   \n",
       "50%         0.000000       0.000000       0.000000       0.000000   \n",
       "75%         0.000000       0.000000       0.000000       0.000000   \n",
       "max         1.000000       1.000000       1.000000       1.000000   \n",
       "\n",
       "             color_I        color_J        color_K       cert_AGS  \\\n",
       "count  222960.000000  222960.000000  222960.000000  222960.000000   \n",
       "mean        0.100740       0.067712       0.028323       0.005875   \n",
       "std         0.300985       0.251251       0.165896       0.076426   \n",
       "min         0.000000       0.000000       0.000000       0.000000   \n",
       "25%         0.000000       0.000000       0.000000       0.000000   \n",
       "50%         0.000000       0.000000       0.000000       0.000000   \n",
       "75%         0.000000       0.000000       0.000000       0.000000   \n",
       "max         1.000000       1.000000       1.000000       1.000000   \n",
       "\n",
       "           cert_AGSL  cert_EGL Intl   cert_EGL USA       cert_GIA  \\\n",
       "count  222960.000000  222960.000000  222960.000000  222960.000000   \n",
       "mean        0.000161       0.009603       0.003158       0.973282   \n",
       "std         0.012706       0.097522       0.056103       0.161258   \n",
       "min         0.000000       0.000000       0.000000       0.000000   \n",
       "25%         0.000000       0.000000       0.000000       1.000000   \n",
       "50%         0.000000       0.000000       0.000000       1.000000   \n",
       "75%         0.000000       0.000000       0.000000       1.000000   \n",
       "max         1.000000       1.000000       1.000000       1.000000   \n",
       "\n",
       "            cert_HRD  \n",
       "count  222960.000000  \n",
       "mean        0.003942  \n",
       "std         0.062665  \n",
       "min         0.000000  \n",
       "25%         0.000000  \n",
       "50%         0.000000  \n",
       "75%         0.000000  \n",
       "max         1.000000  "
      ]
     },
     "execution_count": 10,
     "metadata": {},
     "output_type": "execute_result"
    }
   ],
   "source": [
    "df.describe()"
   ]
  },
  {
   "cell_type": "code",
   "execution_count": 11,
   "metadata": {
    "ExecuteTime": {
     "end_time": "2017-12-20T22:51:12.677827Z",
     "start_time": "2017-12-20T22:51:12.663759Z"
    },
    "collapsed": true,
    "run_control": {
     "frozen": false,
     "read_only": false
    }
   },
   "outputs": [],
   "source": [
    "df = df.drop(['cut','clarity','color','cert'], axis=1)"
   ]
  },
  {
   "cell_type": "markdown",
   "metadata": {
    "run_control": {
     "frozen": false,
     "read_only": false
    }
   },
   "source": [
    "# Fit a Linear Regression for \"Price\" vs. all other features\n",
    "- Split dataset to train and test sets (80-20)\n",
    "- Train model using \"train\" dataset\n",
    "- Score model on the \"test\" dataset\n",
    "- Features are normalized by sci-kit learn's LinearRegression function\n",
    "- Score is R-squared metric for linear regression\n",
    "- MSE is mean-square-error between prediction and actual price for test dataset\n",
    "- Take a look at regression coefficients. Do they look reasonable?"
   ]
  },
  {
   "cell_type": "code",
   "execution_count": 12,
   "metadata": {
    "ExecuteTime": {
     "end_time": "2017-12-20T22:51:17.757498Z",
     "start_time": "2017-12-20T22:51:15.646284Z"
    },
    "collapsed": true,
    "run_control": {
     "frozen": false,
     "read_only": false
    }
   },
   "outputs": [],
   "source": [
    "from sklearn.model_selection import train_test_split\n",
    "y = df['price']\n",
    "X = df.drop(['price'], axis=1)\n",
    "X_train, X_test, y_train, y_test = train_test_split(X, y, test_size=0.2, random_state=42)"
   ]
  },
  {
   "cell_type": "code",
   "execution_count": 13,
   "metadata": {
    "ExecuteTime": {
     "end_time": "2017-12-20T22:51:19.116011Z",
     "start_time": "2017-12-20T22:51:17.761054Z"
    },
    "run_control": {
     "frozen": false,
     "read_only": false
    }
   },
   "outputs": [
    {
     "name": "stdout",
     "output_type": "stream",
     "text": [
      "0.904156360744 549257.908529\n"
     ]
    }
   ],
   "source": [
    "from sklearn import linear_model\n",
    "regr = linear_model.LinearRegression(normalize=True)\n",
    "regr.fit(X_train, y_train)\n",
    "score = regr.score(X_test, y_test)\n",
    "mse = np.mean((regr.predict(X_test) - y_test) ** 2)\n",
    "print score, mse"
   ]
  },
  {
   "cell_type": "code",
   "execution_count": 14,
   "metadata": {
    "ExecuteTime": {
     "end_time": "2017-12-20T22:51:19.129307Z",
     "start_time": "2017-12-20T22:51:19.119157Z"
    },
    "run_control": {
     "frozen": false,
     "read_only": false
    }
   },
   "outputs": [
    {
     "data": {
      "text/plain": [
       "{'carat': 7783.4358964893681,\n",
       " 'cert_AGS': 242.54101710051933,\n",
       " 'cert_AGSL': 1428.3682074891785,\n",
       " 'cert_EGL Intl': -1122.7062460591242,\n",
       " 'cert_EGL USA': 317.33449005999705,\n",
       " 'cert_GIA': 641.31336230388422,\n",
       " 'cert_HRD': 545.24293509823644,\n",
       " 'clarity_FL': 1837.9303220344425,\n",
       " 'clarity_I1': -2164.7209861903075,\n",
       " 'clarity_I2': -2760.670152224197,\n",
       " 'clarity_IF': 388.93887195216917,\n",
       " 'clarity_SI1': -658.74587690578073,\n",
       " 'clarity_SI2': -1093.27035442856,\n",
       " 'clarity_VS1': -80.293156364591468,\n",
       " 'clarity_VS2': -263.18180795297116,\n",
       " 'clarity_VVS1': 199.88145129737464,\n",
       " 'color_D': 2467.0133474714726,\n",
       " 'color_E': 2368.0380332515488,\n",
       " 'color_F': 2235.4332332991339,\n",
       " 'color_G': 2068.2828042895349,\n",
       " 'color_H': 1802.0269518319876,\n",
       " 'color_I': 1352.9111942611291,\n",
       " 'color_J': 763.080104250305,\n",
       " 'color_K': 371.0113824632619,\n",
       " 'cut_Good': -212.54373499375495,\n",
       " 'cut_Ideal': 302.54967966442729,\n",
       " 'depth': -3.4543200119948918,\n",
       " 'table': 10.363874995864862}"
      ]
     },
     "execution_count": 14,
     "metadata": {},
     "output_type": "execute_result"
    }
   ],
   "source": [
    "feats = X.columns\n",
    "feat_dict = dict(zip(feats,regr.coef_))\n",
    "feat_dict"
   ]
  },
  {
   "cell_type": "markdown",
   "metadata": {
    "run_control": {
     "frozen": false,
     "read_only": false
    }
   },
   "source": [
    "### Can we do better? \n",
    "- Since price varies from \\$200 to \\$10000, let's try using log(price)"
   ]
  },
  {
   "cell_type": "code",
   "execution_count": 15,
   "metadata": {
    "ExecuteTime": {
     "end_time": "2017-12-20T22:51:20.975484Z",
     "start_time": "2017-12-20T22:51:20.006398Z"
    },
    "run_control": {
     "frozen": false,
     "read_only": false
    }
   },
   "outputs": [
    {
     "name": "stdout",
     "output_type": "stream",
     "text": [
      "0.898602050539 0.0669973943584\n"
     ]
    }
   ],
   "source": [
    "df['price'] = np.log(df['price'])\n",
    "y = df['price']\n",
    "X = df.drop(['price'], axis=1)\n",
    "X_train, X_test, y_train, y_test = train_test_split(X, y, test_size=0.2, random_state=42)\n",
    "regr = linear_model.LinearRegression(normalize=True)\n",
    "regr.fit(X_train, y_train)\n",
    "score = regr.score(X_test, y_test)\n",
    "mse = np.mean((regr.predict(X_test) - y_test) ** 2)\n",
    "print score, mse"
   ]
  },
  {
   "cell_type": "code",
   "execution_count": 16,
   "metadata": {
    "ExecuteTime": {
     "end_time": "2017-12-20T22:51:20.981789Z",
     "start_time": "2017-12-20T22:51:20.978475Z"
    },
    "collapsed": true,
    "run_control": {
     "frozen": false,
     "read_only": false
    }
   },
   "outputs": [],
   "source": [
    "#feats = X.columns\n",
    "#feat_dict = dict(zip(feats,regr.coef_))\n",
    "#feat_dict"
   ]
  },
  {
   "cell_type": "markdown",
   "metadata": {
    "run_control": {
     "frozen": false,
     "read_only": false
    }
   },
   "source": [
    "### Can we do better? Add carat3\n",
    "- Define new variable \"carat_3\" as a measure of the diameter (size) of the diamond\n",
    "- diamond density is 3.5 g/cm3\n",
    "- 1 carat = 0.2 g\n",
    "- Mass (g) = 0.2 * carat\n",
    "- Volume = Mass / Density = 0.2 * carat / 3.5 in cm3\n",
    "- Size ~ Volume^1/3 ~ carat~1/3"
   ]
  },
  {
   "cell_type": "code",
   "execution_count": 17,
   "metadata": {
    "ExecuteTime": {
     "end_time": "2017-12-20T22:51:24.724435Z",
     "start_time": "2017-12-20T22:51:22.584162Z"
    },
    "run_control": {
     "frozen": false,
     "read_only": false
    }
   },
   "outputs": [
    {
     "name": "stdout",
     "output_type": "stream",
     "text": [
      "0.960203755893 0.0262948577816\n"
     ]
    }
   ],
   "source": [
    "df['carat_3'] = df['carat'].apply(lambda x:np.power(x,float(1./3)))\n",
    "y = df['price']\n",
    "X = df.drop(['price'], axis=1)\n",
    "X_train, X_test, y_train, y_test = train_test_split(X, y, test_size=0.2, random_state=42)\n",
    "regr = linear_model.LinearRegression(normalize=True)\n",
    "regr.fit(X_train, y_train)\n",
    "score = regr.score(X_test, y_test)\n",
    "mse = np.mean((regr.predict(X_test) - y_test) ** 2)\n",
    "print score, mse"
   ]
  },
  {
   "cell_type": "markdown",
   "metadata": {
    "run_control": {
     "frozen": false,
     "read_only": false
    }
   },
   "source": [
    "### Plot Predicted Price (Blue) vs Actual Price (Red) for a subset of the test dataset \n",
    "- (Ideal Cut, Color J, Clarity SI2)"
   ]
  },
  {
   "cell_type": "code",
   "execution_count": 18,
   "metadata": {
    "ExecuteTime": {
     "end_time": "2017-12-20T22:51:25.967049Z",
     "start_time": "2017-12-20T22:51:24.727601Z"
    },
    "run_control": {
     "frozen": false,
     "read_only": false
    }
   },
   "outputs": [
    {
     "data": {
      "image/png": "[encoded data removed]",
      "text/plain": [
       "<matplotlib.figure.Figure at 0x7f796d206c90>"
      ]
     },
     "metadata": {},
     "output_type": "display_data"
    }
   ],
   "source": [
    "df_plot = df[(df.cut_Ideal==1) & (df.color_J==1) & (df.clarity_SI2==1)]\n",
    "df_train, df_test = train_test_split(df_plot, test_size=0.2, random_state=42)\n",
    "y_plot = df_test['price']\n",
    "X_plot = df_test.drop(['price'], axis=1)\n",
    "\n",
    "plt.rcParams['figure.figsize'] = (10,6)\n",
    "plt.scatter(X_plot['carat'], np.exp(y_plot), s=5, color='red', label = 'Actual Price')\n",
    "plt.scatter(X_plot['carat'], np.exp(regr.predict(X_plot)), s=5, color='blue', label = 'Predicted Price')\n",
    "plt.title('Predicted & Actual Price by Carat size')\n",
    "plt.xlabel('Carat size')\n",
    "plt.ylabel('Price ($)')\n",
    "plt.semilogy()\n",
    "plt.legend(loc='best')\n",
    "plt.show()\n"
   ]
  },
  {
   "cell_type": "code",
   "execution_count": 19,
   "metadata": {
    "ExecuteTime": {
     "end_time": "2017-12-20T22:51:35.771106Z",
     "start_time": "2017-12-20T22:51:35.604252Z"
    },
    "run_control": {
     "frozen": false,
     "read_only": false
    }
   },
   "outputs": [
    {
     "data": {
      "text/html": [
       "<div>\n",
       "<table border=\"1\" class=\"dataframe\">\n",
       "  <thead>\n",
       "    <tr style=\"text-align: right;\">\n",
       "      <th></th>\n",
       "      <th>carat</th>\n",
       "      <th>table</th>\n",
       "      <th>depth</th>\n",
       "      <th>price</th>\n",
       "      <th>cut_Good</th>\n",
       "      <th>cut_Ideal</th>\n",
       "      <th>clarity_FL</th>\n",
       "      <th>clarity_I1</th>\n",
       "      <th>clarity_I2</th>\n",
       "      <th>clarity_IF</th>\n",
       "      <th>clarity_SI1</th>\n",
       "      <th>clarity_SI2</th>\n",
       "      <th>clarity_VS1</th>\n",
       "      <th>clarity_VS2</th>\n",
       "      <th>clarity_VVS1</th>\n",
       "      <th>color_D</th>\n",
       "      <th>color_E</th>\n",
       "      <th>color_F</th>\n",
       "      <th>color_G</th>\n",
       "      <th>color_H</th>\n",
       "      <th>color_I</th>\n",
       "      <th>color_J</th>\n",
       "      <th>color_K</th>\n",
       "      <th>cert_AGS</th>\n",
       "      <th>cert_AGSL</th>\n",
       "      <th>cert_EGL Intl</th>\n",
       "      <th>cert_EGL USA</th>\n",
       "      <th>cert_GIA</th>\n",
       "      <th>cert_HRD</th>\n",
       "      <th>carat_3</th>\n",
       "    </tr>\n",
       "  </thead>\n",
       "  <tbody>\n",
       "    <tr>\n",
       "      <th>0</th>\n",
       "      <td>0.20</td>\n",
       "      <td>63.0</td>\n",
       "      <td>60.4</td>\n",
       "      <td>5.313206</td>\n",
       "      <td>0</td>\n",
       "      <td>0</td>\n",
       "      <td>0</td>\n",
       "      <td>0</td>\n",
       "      <td>0</td>\n",
       "      <td>0</td>\n",
       "      <td>0</td>\n",
       "      <td>1</td>\n",
       "      <td>0</td>\n",
       "      <td>0</td>\n",
       "      <td>0</td>\n",
       "      <td>1</td>\n",
       "      <td>0</td>\n",
       "      <td>0</td>\n",
       "      <td>0</td>\n",
       "      <td>0</td>\n",
       "      <td>0</td>\n",
       "      <td>0</td>\n",
       "      <td>0</td>\n",
       "      <td>0</td>\n",
       "      <td>0</td>\n",
       "      <td>0</td>\n",
       "      <td>0</td>\n",
       "      <td>1</td>\n",
       "      <td>0</td>\n",
       "      <td>0.584804</td>\n",
       "    </tr>\n",
       "    <tr>\n",
       "      <th>1</th>\n",
       "      <td>0.26</td>\n",
       "      <td>63.0</td>\n",
       "      <td>62.7</td>\n",
       "      <td>5.411646</td>\n",
       "      <td>0</td>\n",
       "      <td>0</td>\n",
       "      <td>0</td>\n",
       "      <td>0</td>\n",
       "      <td>0</td>\n",
       "      <td>0</td>\n",
       "      <td>1</td>\n",
       "      <td>0</td>\n",
       "      <td>0</td>\n",
       "      <td>0</td>\n",
       "      <td>0</td>\n",
       "      <td>0</td>\n",
       "      <td>0</td>\n",
       "      <td>0</td>\n",
       "      <td>1</td>\n",
       "      <td>0</td>\n",
       "      <td>0</td>\n",
       "      <td>0</td>\n",
       "      <td>0</td>\n",
       "      <td>0</td>\n",
       "      <td>0</td>\n",
       "      <td>0</td>\n",
       "      <td>1</td>\n",
       "      <td>0</td>\n",
       "      <td>0</td>\n",
       "      <td>0.638250</td>\n",
       "    </tr>\n",
       "    <tr>\n",
       "      <th>2</th>\n",
       "      <td>0.23</td>\n",
       "      <td>62.0</td>\n",
       "      <td>61.6</td>\n",
       "      <td>5.433722</td>\n",
       "      <td>1</td>\n",
       "      <td>0</td>\n",
       "      <td>0</td>\n",
       "      <td>0</td>\n",
       "      <td>0</td>\n",
       "      <td>0</td>\n",
       "      <td>1</td>\n",
       "      <td>0</td>\n",
       "      <td>0</td>\n",
       "      <td>0</td>\n",
       "      <td>0</td>\n",
       "      <td>0</td>\n",
       "      <td>0</td>\n",
       "      <td>1</td>\n",
       "      <td>0</td>\n",
       "      <td>0</td>\n",
       "      <td>0</td>\n",
       "      <td>0</td>\n",
       "      <td>0</td>\n",
       "      <td>0</td>\n",
       "      <td>0</td>\n",
       "      <td>0</td>\n",
       "      <td>0</td>\n",
       "      <td>1</td>\n",
       "      <td>0</td>\n",
       "      <td>0.612693</td>\n",
       "    </tr>\n",
       "    <tr>\n",
       "      <th>3</th>\n",
       "      <td>0.25</td>\n",
       "      <td>65.0</td>\n",
       "      <td>54.1</td>\n",
       "      <td>5.446737</td>\n",
       "      <td>1</td>\n",
       "      <td>0</td>\n",
       "      <td>0</td>\n",
       "      <td>1</td>\n",
       "      <td>0</td>\n",
       "      <td>0</td>\n",
       "      <td>0</td>\n",
       "      <td>0</td>\n",
       "      <td>0</td>\n",
       "      <td>0</td>\n",
       "      <td>0</td>\n",
       "      <td>0</td>\n",
       "      <td>0</td>\n",
       "      <td>0</td>\n",
       "      <td>0</td>\n",
       "      <td>1</td>\n",
       "      <td>0</td>\n",
       "      <td>0</td>\n",
       "      <td>0</td>\n",
       "      <td>0</td>\n",
       "      <td>0</td>\n",
       "      <td>0</td>\n",
       "      <td>0</td>\n",
       "      <td>1</td>\n",
       "      <td>0</td>\n",
       "      <td>0.629961</td>\n",
       "    </tr>\n",
       "    <tr>\n",
       "      <th>4</th>\n",
       "      <td>0.22</td>\n",
       "      <td>62.0</td>\n",
       "      <td>59.0</td>\n",
       "      <td>5.455321</td>\n",
       "      <td>0</td>\n",
       "      <td>0</td>\n",
       "      <td>0</td>\n",
       "      <td>0</td>\n",
       "      <td>0</td>\n",
       "      <td>0</td>\n",
       "      <td>0</td>\n",
       "      <td>0</td>\n",
       "      <td>0</td>\n",
       "      <td>0</td>\n",
       "      <td>0</td>\n",
       "      <td>0</td>\n",
       "      <td>0</td>\n",
       "      <td>0</td>\n",
       "      <td>0</td>\n",
       "      <td>0</td>\n",
       "      <td>0</td>\n",
       "      <td>0</td>\n",
       "      <td>1</td>\n",
       "      <td>0</td>\n",
       "      <td>0</td>\n",
       "      <td>0</td>\n",
       "      <td>0</td>\n",
       "      <td>1</td>\n",
       "      <td>0</td>\n",
       "      <td>0.603681</td>\n",
       "    </tr>\n",
       "  </tbody>\n",
       "</table>\n",
       "</div>"
      ],
      "text/plain": [
       "   carat  table  depth     price  cut_Good  cut_Ideal  clarity_FL  clarity_I1  \\\n",
       "0   0.20   63.0   60.4  5.313206         0          0           0           0   \n",
       "1   0.26   63.0   62.7  5.411646         0          0           0           0   \n",
       "2   0.23   62.0   61.6  5.433722         1          0           0           0   \n",
       "3   0.25   65.0   54.1  5.446737         1          0           0           1   \n",
       "4   0.22   62.0   59.0  5.455321         0          0           0           0   \n",
       "\n",
       "   clarity_I2  clarity_IF  clarity_SI1  clarity_SI2  clarity_VS1  clarity_VS2  \\\n",
       "0           0           0            0            1            0            0   \n",
       "1           0           0            1            0            0            0   \n",
       "2           0           0            1            0            0            0   \n",
       "3           0           0            0            0            0            0   \n",
       "4           0           0            0            0            0            0   \n",
       "\n",
       "   clarity_VVS1  color_D  color_E  color_F  color_G  color_H  color_I  \\\n",
       "0             0        1        0        0        0        0        0   \n",
       "1             0        0        0        0        1        0        0   \n",
       "2             0        0        0        1        0        0        0   \n",
       "3             0        0        0        0        0        1        0   \n",
       "4             0        0        0        0        0        0        0   \n",
       "\n",
       "   color_J  color_K  cert_AGS  cert_AGSL  cert_EGL Intl  cert_EGL USA  \\\n",
       "0        0        0         0          0              0             0   \n",
       "1        0        0         0          0              0             1   \n",
       "2        0        0         0          0              0             0   \n",
       "3        0        0         0          0              0             0   \n",
       "4        0        1         0          0              0             0   \n",
       "\n",
       "   cert_GIA  cert_HRD   carat_3  \n",
       "0         1         0  0.584804  \n",
       "1         0         0  0.638250  \n",
       "2         1         0  0.612693  \n",
       "3         1         0  0.629961  \n",
       "4         1         0  0.603681  "
      ]
     },
     "execution_count": 19,
     "metadata": {},
     "output_type": "execute_result"
    }
   ],
   "source": [
    "df.head()"
   ]
  },
  {
   "cell_type": "code",
   "execution_count": null,
   "metadata": {
    "collapsed": true
   },
   "outputs": [],
   "source": []
  }
 ],
 "metadata": {
  "anaconda-cloud": {},
  "hide_input": false,
  "kernelspec": {
   "display_name": "Python 2",
   "language": "python",
   "name": "python2"
  },
  "language_info": {
   "codemirror_mode": {
    "name": "ipython",
    "version": 2
   },
   "file_extension": ".py",
   "mimetype": "text/x-python",
   "name": "python",
   "nbconvert_exporter": "python",
   "pygments_lexer": "ipython2",
   "version": "2.7.12"
  },
  "toc": {
   "nav_menu": {
    "height": "153px",
    "width": "252px"
   },
   "navigate_menu": true,
   "number_sections": true,
   "sideBar": true,
   "threshold": 4,
   "toc_cell": false,
   "toc_section_display": "block",
   "toc_window_display": false
  }
 },
 "nbformat": 4,
 "nbformat_minor": 1
}
